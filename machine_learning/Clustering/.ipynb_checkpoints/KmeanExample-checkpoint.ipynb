{
 "cells": [
  {
   "cell_type": "markdown",
   "id": "6a032e3b",
   "metadata": {},
   "source": [
    "# Clustering\n",
    "## K-mean algoritması\n",
    "* K değeri seç K=2 olsun\n",
    "* Random centroid ata\n",
    "* data pointerleri centroide göre uzaklığa (euclidean distance) bak ve cluster (gruplama)yap\n",
    "* bu centroidlerin yeri değişmeyene kadar yeni centroid bul"
   ]
  },
  {
   "cell_type": "markdown",
   "id": "a897940f",
   "metadata": {},
   "source": [
    "### K değeri nasıl bulunur\n",
    " * WCSS= within cluster sum of squares ->wcss grafiğine göre dirsek noktası en optimal nokta olarak kabul edilir"
   ]
  },
  {
   "cell_type": "code",
   "execution_count": null,
   "id": "bb6efa29",
   "metadata": {},
   "outputs": [],
   "source": []
  }
 ],
 "metadata": {
  "kernelspec": {
   "display_name": "Python 3 (ipykernel)",
   "language": "python",
   "name": "python3"
  },
  "language_info": {
   "codemirror_mode": {
    "name": "ipython",
    "version": 3
   },
   "file_extension": ".py",
   "mimetype": "text/x-python",
   "name": "python",
   "nbconvert_exporter": "python",
   "pygments_lexer": "ipython3",
   "version": "3.11.7"
  }
 },
 "nbformat": 4,
 "nbformat_minor": 5
}
